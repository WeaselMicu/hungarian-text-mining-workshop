{
 "cells": [
  {
   "cell_type": "code",
   "execution_count": 1,
   "metadata": {
    "ExecuteTime": {
     "end_time": "2017-06-27T09:06:45.522342Z",
     "start_time": "2017-06-27T11:06:45.462939+02:00"
    },
    "slideshow": {
     "slide_type": "skip"
    }
   },
   "outputs": [
    {
     "name": "stderr",
     "output_type": "stream",
     "text": [
      "/Users/gorosz/anaconda3/lib/python3.6/site-packages/IPython/html.py:14: ShimWarning: The `IPython.html` package has been deprecated. You should import from `notebook` instead. `IPython.html.widgets` has moved to `ipywidgets`.\n",
      "  \"`IPython.html.widgets` has moved to `ipywidgets`.\", ShimWarning)\n"
     ]
    },
    {
     "data": {
      "text/plain": [
       "{'scroll': True,\n",
       " 'slideNumber': True,\n",
       " 'start_slideshow_at': 'selected',\n",
       " 'theme': 'simple',\n",
       " 'transition': 'linear'}"
      ]
     },
     "execution_count": 1,
     "metadata": {},
     "output_type": "execute_result"
    }
   ],
   "source": [
    "from IPython.html.services.config import ConfigManager\n",
    "from IPython.paths import locate_profile\n",
    "cm = ConfigManager(profile_dir=locate_profile(get_ipython().profile))\n",
    "\n",
    "cm.update('notebook', {\"load_extensions\": {\"livereveal/main\": True}})\n",
    "cm.update('livereveal', {\n",
    "    'theme': 'simple',\n",
    "    'transition': 'linear',\n",
    "    'slideNumber': True,\n",
    "    'start_slideshow_at': 'selected',\n",
    "    'scroll': True,\n",
    "})"
   ]
  },
  {
   "cell_type": "markdown",
   "metadata": {
    "ExecuteTime": {
     "end_time": "2017-06-23T14:55:58.336410Z",
     "start_time": "2017-06-23T16:55:58.334064+02:00"
    },
    "slideshow": {
     "slide_type": "slide"
    }
   },
   "source": [
    "# Named entity recognition"
   ]
  },
  {
   "cell_type": "markdown",
   "metadata": {
    "ExecuteTime": {
     "end_time": "2017-06-23T15:07:01.486309Z",
     "start_time": "2017-06-23T17:07:01.312446+02:00"
    },
    "slideshow": {
     "slide_type": "subslide"
    }
   },
   "source": [
    "![NER](./img/ner.png)"
   ]
  },
  {
   "cell_type": "markdown",
   "metadata": {
    "slideshow": {
     "slide_type": "fragment"
    }
   },
   "source": [
    "... is the task of **identifying** and **classifying** named entities into predefined categories\n",
    "\n",
    "* Predefined categories are: **PER, LOC, ORG, MISC**, DATE, NUM, ...\n",
    "* it is a sequence classification problem\n",
    "* BIO or BILOU tagging scheme\n",
    "* State-of-the-art performance (for English) is around 90% F-score"
   ]
  },
  {
   "cell_type": "markdown",
   "metadata": {
    "ExecuteTime": {
     "end_time": "2017-06-25T21:59:32.176470Z",
     "start_time": "2017-06-25T23:59:32.153428+02:00"
    },
    "slideshow": {
     "slide_type": "slide"
    }
   },
   "source": [
    "## Anatomy of spaCy's NER"
   ]
  },
  {
   "cell_type": "code",
   "execution_count": 2,
   "metadata": {
    "ExecuteTime": {
     "end_time": "2017-06-27T09:06:57.442936Z",
     "start_time": "2017-06-27T11:06:45.524124+02:00"
    },
    "collapsed": true,
    "slideshow": {
     "slide_type": "subslide"
    }
   },
   "outputs": [],
   "source": [
    "from spacy.en import English\n",
    "\n",
    "enlp = English()"
   ]
  },
  {
   "cell_type": "code",
   "execution_count": 3,
   "metadata": {
    "ExecuteTime": {
     "end_time": "2017-06-27T09:06:57.455262Z",
     "start_time": "2017-06-27T11:06:57.445111+02:00"
    },
    "collapsed": true,
    "slideshow": {
     "slide_type": "fragment"
    }
   },
   "outputs": [],
   "source": [
    "doc = enlp(\"President Trump has a new morning ritual. Around 6:30 a.m. on many days — \"\n",
    "    \"before all the network news shows have come on the air — \"\n",
    "    \"he gets on the phone with a member of his outside legal team to chew over all things Russia.\")"
   ]
  },
  {
   "cell_type": "code",
   "execution_count": 4,
   "metadata": {
    "ExecuteTime": {
     "end_time": "2017-06-27T09:06:57.462564Z",
     "start_time": "2017-06-27T11:06:57.457746+02:00"
    },
    "slideshow": {
     "slide_type": "fragment"
    }
   },
   "outputs": [
    {
     "data": {
      "text/plain": [
       "(Trump, 6:30 a.m. on, Russia)"
      ]
     },
     "execution_count": 4,
     "metadata": {},
     "output_type": "execute_result"
    }
   ],
   "source": [
    "doc.ents"
   ]
  },
  {
   "cell_type": "code",
   "execution_count": 5,
   "metadata": {
    "ExecuteTime": {
     "end_time": "2017-06-27T09:06:57.470666Z",
     "start_time": "2017-06-27T11:06:57.465195+02:00"
    },
    "slideshow": {
     "slide_type": "subslide"
    }
   },
   "outputs": [
    {
     "data": {
      "text/plain": [
       "['Trump/PERSON', '6:30 a.m. on/TIME', 'Russia/GPE']"
      ]
     },
     "execution_count": 5,
     "metadata": {},
     "output_type": "execute_result"
    }
   ],
   "source": [
    "[\"{}/{}\".format(ent.text, ent.label_) for ent in doc.ents]"
   ]
  },
  {
   "cell_type": "markdown",
   "metadata": {
    "slideshow": {
     "slide_type": "fragment"
    }
   },
   "source": [
    "spaCy recognizes [10+7 NE types](https://spacy.io/docs/usage/entity-recognition#entity-types)"
   ]
  },
  {
   "cell_type": "code",
   "execution_count": 6,
   "metadata": {
    "ExecuteTime": {
     "end_time": "2017-06-27T09:06:57.481166Z",
     "start_time": "2017-06-27T11:06:57.472613+02:00"
    },
    "slideshow": {
     "slide_type": "fragment"
    }
   },
   "outputs": [
    {
     "name": "stdout",
     "output_type": "stream",
     "text": [
      "President O \n",
      "Trump B PERSON\n",
      "has O \n",
      "a O \n",
      "new O \n",
      "morning O \n",
      "ritual O \n",
      ". O \n",
      "Around O \n",
      "6:30 B TIME\n"
     ]
    }
   ],
   "source": [
    "for tok in doc[:10]:\n",
    "    print(tok, tok.ent_iob_, tok.ent_type_)"
   ]
  },
  {
   "cell_type": "markdown",
   "metadata": {
    "ExecuteTime": {
     "end_time": "2017-06-23T15:13:32.180209Z",
     "start_time": "2017-06-23T17:13:32.177195+02:00"
    },
    "slideshow": {
     "slide_type": "slide"
    }
   },
   "source": [
    "## Spacy does not know Hungarian NEs (yet)"
   ]
  },
  {
   "cell_type": "markdown",
   "metadata": {
    "ExecuteTime": {
     "end_time": "2017-06-23T15:14:04.976748Z",
     "start_time": "2017-06-23T17:14:04.972105+02:00"
    },
    "slideshow": {
     "slide_type": "fragment"
    }
   },
   "source": [
    "...but we have other tools to use"
   ]
  },
  {
   "cell_type": "markdown",
   "metadata": {
    "ExecuteTime": {
     "end_time": "2017-06-23T15:17:57.331336Z",
     "start_time": "2017-06-23T17:17:57.326067+02:00"
    },
    "slideshow": {
     "slide_type": "subslide"
    }
   },
   "source": [
    "Pretrained open-source tools\n",
    "* [Szeged NER](http://www.inf.u-szeged.hu/rgai/NER)\n",
    "* [HunTag](https://github.com/recski/HunTag)\n"
   ]
  },
  {
   "cell_type": "markdown",
   "metadata": {
    "slideshow": {
     "slide_type": "fragment"
    }
   },
   "source": [
    "You can build models using existing corpora and open-source tools:\n",
    "* [Szeged NER corpus](http://rgai.inf.u-szeged.hu/index.php?lang=en&page=corpus_ne)\n",
    "* [hunNERwiki](http://hlt.sztaki.hu/resources/hunnerwiki.html)"
   ]
  },
  {
   "cell_type": "markdown",
   "metadata": {
    "ExecuteTime": {
     "end_time": "2017-06-23T15:19:14.789687Z",
     "start_time": "2017-06-23T17:19:14.784318+02:00"
    },
    "slideshow": {
     "slide_type": "subslide"
    }
   },
   "source": [
    "### +1\n",
    "\n",
    "[HuNLP](https://github.com/oroszgy/hunlp) wraps [`magyarlanc`](http://www.inf.u-szeged.hu/rgai/magyarlanc) and [Szeged NER](http://www.inf.u-szeged.hu/rgai/NER)\n",
    "* merges NER results with the output of magyarlanc\n",
    "* convenient programatic API\n",
    "* REST API\n",
    "* Dockerized"
   ]
  },
  {
   "cell_type": "markdown",
   "metadata": {
    "slideshow": {
     "slide_type": "subslide"
    }
   },
   "source": [
    "### HuNlp in practice"
   ]
  },
  {
   "cell_type": "markdown",
   "metadata": {
    "slideshow": {
     "slide_type": "fragment"
    }
   },
   "source": [
    "For the workshop the dockerized HuNLP is running on an AWS instance, you may want to run it locally: \n",
    "\n",
    "```\n",
    "docker pull oroszgy/hunlp\n",
    "docker run -it -p 9090:9090 oroszgy/hunlp\n",
    "```"
   ]
  },
  {
   "cell_type": "code",
   "execution_count": 7,
   "metadata": {
    "ExecuteTime": {
     "end_time": "2017-06-27T09:07:06.504209Z",
     "start_time": "2017-06-27T11:06:57.483618+02:00"
    },
    "scrolled": false,
    "slideshow": {
     "slide_type": "subslide"
    }
   },
   "outputs": [
    {
     "data": {
      "text/plain": [
       "[('TASZ-ról', 'ORG'),\n",
       " ('Zsiga Marcellről', 'PER'),\n",
       " ('Fidesz', 'ORG'),\n",
       " ('Fidesz', 'ORG'),\n",
       " ('Zsiga Marcell-sztori', 'ORG'),\n",
       " ('Zsiga Marcellnek', 'PER'),\n",
       " ('Miskolc', 'LOC'),\n",
       " ('Szerencsejáték Zrt.', 'ORG'),\n",
       " ('Szerencsejáték Zrt.', 'ORG'),\n",
       " ('TASZ', 'ORG'),\n",
       " ('Fedák Sári', 'PER'),\n",
       " ('TASZ', 'ORG'),\n",
       " ('Strasbourgba', 'LOC'),\n",
       " ('TASZ', 'ORG'),\n",
       " ('Zsiga Marcell', 'PER'),\n",
       " ('TASZ', 'ORG'),\n",
       " ('Orbán Viktort', 'PER'),\n",
       " ('Magyarországon', 'LOC')]"
      ]
     },
     "execution_count": 7,
     "metadata": {},
     "output_type": "execute_result"
    }
   ],
   "source": [
    "from hunlp import HuNlp\n",
    "\n",
    "text = open(\"./data/hvg_cikk.txt\").read()\n",
    "# if you have a local HuNLP instance running, replace the parameter with \"http://127.0.0.1\"\n",
    "nlp = HuNlp(\"http://35.189.225.241\")\n",
    "doc = nlp(text)\n",
    "list(doc.entities)"
   ]
  },
  {
   "cell_type": "code",
   "execution_count": 8,
   "metadata": {
    "ExecuteTime": {
     "end_time": "2017-06-27T09:07:06.516588Z",
     "start_time": "2017-06-27T11:07:06.505818+02:00"
    },
    "slideshow": {
     "slide_type": "subslide"
    }
   },
   "outputs": [
    {
     "name": "stdout",
     "output_type": "stream",
     "text": [
      "TASZ-ról I-ORG\n",
      "Zsiga I-PER\n",
      "Marcellről I-PER\n",
      "Fidesz I-ORG\n",
      "Fidesz I-ORG\n",
      "Zsiga I-ORG\n",
      "Marcell-sztori I-ORG\n",
      "Zsiga I-PER\n",
      "Marcellnek I-PER\n",
      "Miskolc I-LOC\n",
      "Szerencsejáték I-ORG\n",
      "Zrt. I-ORG\n",
      "TASZ I-ORG\n",
      "Fedák I-PER\n",
      "Sári I-PER\n",
      "TASZ I-ORG\n",
      "Strasbourgba I-LOC\n",
      "TASZ I-ORG\n",
      "Zsiga I-PER\n",
      "Marcell I-PER\n",
      "TASZ I-ORG\n",
      "Orbán I-PER\n",
      "Viktort I-PER\n",
      "Magyarországon I-LOC\n"
     ]
    }
   ],
   "source": [
    "for sent in doc:\n",
    "    for tok in sent:\n",
    "        if tok.entity_type != \"O\":\n",
    "            print(tok.text, tok.entity_type)"
   ]
  },
  {
   "cell_type": "code",
   "execution_count": 9,
   "metadata": {
    "ExecuteTime": {
     "end_time": "2017-06-27T09:07:06.528467Z",
     "start_time": "2017-06-27T11:07:06.519339+02:00"
    },
    "slideshow": {
     "slide_type": "subslide"
    }
   },
   "outputs": [
    {
     "name": "stdout",
     "output_type": "stream",
     "text": [
      "1 Így így ADV 2 MODE\n",
      "2 gondozd gondoz VERB 0 ROOT\n",
      "3 a a DET 4 DET\n",
      "4 civiledet civil NOUN 2 OBJ\n"
     ]
    }
   ],
   "source": [
    "for tok in doc[0]:\n",
    "    print(tok.i, tok.text, tok.lemma, tok.tag, tok.head, tok.dep)"
   ]
  },
  {
   "cell_type": "markdown",
   "metadata": {
    "slideshow": {
     "slide_type": "slide"
    }
   },
   "source": [
    "# Wikification"
   ]
  },
  {
   "cell_type": "markdown",
   "metadata": {
    "slideshow": {
     "slide_type": "fragment"
    }
   },
   "source": [
    "Wikification / entity linking / named entity disambiguation is the task of identifying and linking entities to a knowledge base (e.g. Wikipedia)"
   ]
  },
  {
   "cell_type": "markdown",
   "metadata": {
    "slideshow": {
     "slide_type": "subslide"
    }
   },
   "source": [
    "## DBpedia\n",
    "\n",
    "Structured content from Wikipedia"
   ]
  },
  {
   "cell_type": "markdown",
   "metadata": {
    "ExecuteTime": {
     "end_time": "2017-06-23T20:58:53.846839Z",
     "start_time": "2017-06-23T22:58:53.723213+02:00"
    },
    "slideshow": {
     "slide_type": "subslide"
    }
   },
   "source": [
    "Wikipedia infobox\n",
    "![Infobox](./img/wikipedia_infobox.png)"
   ]
  },
  {
   "cell_type": "markdown",
   "metadata": {
    "slideshow": {
     "slide_type": "subslide"
    }
   },
   "source": [
    "Extracted DBpedia content\n",
    "\n",
    "![Dbpedia](./img/dbpedia1.png)\n",
    "![Dbpedia](./img/dbpedia2.png)"
   ]
  },
  {
   "cell_type": "markdown",
   "metadata": {
    "slideshow": {
     "slide_type": "subslide"
    }
   },
   "source": [
    "DBpedia is:\n",
    "\n",
    "* freely accessible and open-source\n",
    "* represented as semantic triples\n",
    "* easily browsable through web or SPARQL interface"
   ]
  },
  {
   "cell_type": "markdown",
   "metadata": {
    "ExecuteTime": {
     "end_time": "2017-06-23T20:52:18.631571Z",
     "start_time": "2017-06-23T22:52:18.627582+02:00"
    },
    "slideshow": {
     "slide_type": "fragment"
    }
   },
   "source": [
    "Most importantly, DBpedia \n",
    "* incorporates multiple ontologies (Yago, Umbel, ...)\n",
    "* is multilingual (with interlinks between languages!)"
   ]
  },
  {
   "cell_type": "markdown",
   "metadata": {
    "ExecuteTime": {
     "end_time": "2017-06-23T20:46:30.856224Z",
     "start_time": "2017-06-23T22:46:30.850815+02:00"
    },
    "slideshow": {
     "slide_type": "subslide"
    }
   },
   "source": [
    "## [DBpedia Spotlight](https://github.com/dbpedia-spotlight/dbpedia-spotlight)\n",
    "\n",
    "... is a tool for automatically annotating mentions of DBpedia/Wikipedia resources in text. ([Demo](http://demo.dbpedia-spotlight.org/))\n",
    "\n",
    "![Spotlight](./img/spotlight.png)"
   ]
  },
  {
   "cell_type": "markdown",
   "metadata": {
    "slideshow": {
     "slide_type": "subslide"
    }
   },
   "source": [
    "Spotlight is trained on Wikipedia & DBpedia, using various features such as\n",
    "\n",
    "* disrtribution of anchor words\n",
    "* cooccurrences of concepts\n",
    "* contexts of interlinks"
   ]
  },
  {
   "cell_type": "markdown",
   "metadata": {
    "slideshow": {
     "slide_type": "subslide"
    }
   },
   "source": [
    "### Why is it so interesting?"
   ]
  },
  {
   "cell_type": "markdown",
   "metadata": {
    "ExecuteTime": {
     "end_time": "2017-06-23T21:05:27.762400Z",
     "start_time": "2017-06-23T23:05:27.756286+02:00"
    },
    "slideshow": {
     "slide_type": "fragment"
    }
   },
   "source": [
    "It could be used for\n",
    "\n",
    "* finding/disambiguating Named Entities\n",
    "* extracting topics from raw text"
   ]
  },
  {
   "cell_type": "code",
   "execution_count": 10,
   "metadata": {
    "ExecuteTime": {
     "end_time": "2017-06-27T09:07:06.542271Z",
     "start_time": "2017-06-27T11:07:06.531240+02:00"
    },
    "collapsed": true,
    "slideshow": {
     "slide_type": "subslide"
    }
   },
   "outputs": [],
   "source": [
    "import spotlight"
   ]
  },
  {
   "cell_type": "code",
   "execution_count": 11,
   "metadata": {
    "ExecuteTime": {
     "end_time": "2017-06-27T09:07:06.980862Z",
     "start_time": "2017-06-27T11:07:06.544438+02:00"
    },
    "slideshow": {
     "slide_type": "fragment"
    }
   },
   "outputs": [
    {
     "data": {
      "text/plain": [
       "[{'URI': 'http://hu.dbpedia.org/resource/Fidesz_–_Magyar_Polgári_Szövetség',\n",
       "  'offset': 130,\n",
       "  'percentageOfSecondRank': 0.0,\n",
       "  'similarityScore': 1.0,\n",
       "  'support': 937,\n",
       "  'surfaceForm': 'Fidesz',\n",
       "  'types': 'DBpedia:Agent,Schema:Organization,DBpedia:Organisation,DBpedia:PoliticalParty'},\n",
       " {'URI': 'http://hu.dbpedia.org/resource/Fidesz_–_Magyar_Polgári_Szövetség',\n",
       "  'offset': 333,\n",
       "  'percentageOfSecondRank': 0.0,\n",
       "  'similarityScore': 1.0,\n",
       "  'support': 937,\n",
       "  'surfaceForm': 'Fidesz',\n",
       "  'types': 'DBpedia:Agent,Schema:Organization,DBpedia:Organisation,DBpedia:PoliticalParty'},\n",
       " {'URI': 'http://hu.dbpedia.org/resource/Miskolc',\n",
       "  'offset': 893,\n",
       "  'percentageOfSecondRank': 3.8197350632819025e-21,\n",
       "  'similarityScore': 1.0,\n",
       "  'support': 2851,\n",
       "  'surfaceForm': 'Miskolc',\n",
       "  'types': 'Schema:Place,DBpedia:Place,DBpedia:PopulatedPlace,DBpedia:Settlement'},\n",
       " {'URI': 'http://hu.dbpedia.org/resource/Strasbourg',\n",
       "  'offset': 2323,\n",
       "  'percentageOfSecondRank': 4.833194969505155e-15,\n",
       "  'similarityScore': 1.0,\n",
       "  'support': 472,\n",
       "  'surfaceForm': 'Strasbourgba',\n",
       "  'types': 'Schema:Place,DBpedia:Place,DBpedia:PopulatedPlace,DBpedia:Settlement'},\n",
       " {'URI': 'http://hu.dbpedia.org/resource/Strasbourg',\n",
       "  'offset': 2643,\n",
       "  'percentageOfSecondRank': 0.0,\n",
       "  'similarityScore': 1.0,\n",
       "  'support': 472,\n",
       "  'surfaceForm': 'strasbourgi',\n",
       "  'types': 'Schema:Place,DBpedia:Place,DBpedia:PopulatedPlace,DBpedia:Settlement'},\n",
       " {'URI': 'http://hu.dbpedia.org/resource/Orbán_Viktor',\n",
       "  'offset': 3784,\n",
       "  'percentageOfSecondRank': 0.0,\n",
       "  'similarityScore': 1.0,\n",
       "  'support': 302,\n",
       "  'surfaceForm': 'Orbán Viktort',\n",
       "  'types': 'DBpedia:Agent,Schema:Person,Http://xmlns.com/foaf/0.1/Person,DBpedia:Person,DBpedia:Politician'},\n",
       " {'URI': 'http://hu.dbpedia.org/resource/Magyarország',\n",
       "  'offset': 4000,\n",
       "  'percentageOfSecondRank': 2.538877850184772e-19,\n",
       "  'similarityScore': 1.0,\n",
       "  'support': 19613,\n",
       "  'surfaceForm': 'Magyarországon',\n",
       "  'types': 'Schema:Place,DBpedia:Place,DBpedia:PopulatedPlace,Schema:Country,DBpedia:Country'}]"
      ]
     },
     "execution_count": 11,
     "metadata": {},
     "output_type": "execute_result"
    }
   ],
   "source": [
    "spotlight.annotate('http://spotlight.sztaki.hu:2229/rest/annotate', text, support=200, confidence=0.4)"
   ]
  },
  {
   "cell_type": "markdown",
   "metadata": {
    "slideshow": {
     "slide_type": "slide"
    }
   },
   "source": [
    "# Closing remarks"
   ]
  },
  {
   "cell_type": "markdown",
   "metadata": {
    "slideshow": {
     "slide_type": "subslide"
    }
   },
   "source": [
    "## Summary"
   ]
  },
  {
   "cell_type": "markdown",
   "metadata": {
    "ExecuteTime": {
     "end_time": "2017-06-24T08:52:33.871770Z",
     "start_time": "2017-06-24T10:52:33.866833+02:00"
    },
    "slideshow": {
     "slide_type": "fragment"
    }
   },
   "source": [
    "Now you are able to\n",
    "\n",
    "* extract frequent terms and keyphrases, visualize them\n",
    "* perform basic NLP tasks on Hungarian texts\n",
    "* build a simple topic classifier\n",
    "* automatically analyze sentiment of tweets\n",
    "* identify and classify named entities"
   ]
  },
  {
   "cell_type": "markdown",
   "metadata": {
    "ExecuteTime": {
     "end_time": "2017-06-25T22:22:18.153076Z",
     "start_time": "2017-06-26T00:22:17.970607+02:00"
    },
    "slideshow": {
     "slide_type": "slide"
    }
   },
   "source": [
    "![DT](./img/hat.png)"
   ]
  },
  {
   "cell_type": "markdown",
   "metadata": {
    "slideshow": {
     "slide_type": "subslide"
    }
   },
   "source": [
    "If interested in even more open-source Hungarian NLP tools, look around [in this document](https://github.com/oroszgy/awesome-hungarian-nlp/) "
   ]
  },
  {
   "cell_type": "markdown",
   "metadata": {
    "slideshow": {
     "slide_type": "fragment"
    }
   },
   "source": [
    "* `hunlp` and the Hungarian `spaCy` models are in a very early development phase, use them with caution!\n",
    "* Bug reports, PRs are always welcome :)"
   ]
  },
  {
   "cell_type": "code",
   "execution_count": 12,
   "metadata": {
    "ExecuteTime": {
     "end_time": "2017-06-27T09:07:06.998612Z",
     "start_time": "2017-06-27T11:07:06.983468+02:00"
    },
    "slideshow": {
     "slide_type": "subslide"
    }
   },
   "outputs": [
    {
     "data": {
      "text/plain": [
       "array([ -2.18545005e-01,   2.67279983e-01,  -5.61850011e-01,\n",
       "        -2.22974997e-02,  -1.04899995e-01,   1.43052489e-01,\n",
       "        -7.74499774e-03,  -3.86530012e-01,  -9.36115012e-02,\n",
       "         2.45519996e+00,  -1.99582502e-01,   3.25064994e-02,\n",
       "         1.25824004e-01,  -7.39655048e-02,  -3.32289994e-01,\n",
       "        -2.44334996e-01,  -3.53455007e-01,   1.00812006e+00,\n",
       "        -3.68030012e-01,   1.03618503e-01,   5.74027523e-02,\n",
       "        -7.30015039e-02,  -5.03524989e-02,  -1.29685000e-01,\n",
       "        -3.57325017e-01,   9.77305025e-02,  -3.94384973e-02,\n",
       "        -1.38725013e-01,   1.69670001e-01,  -1.58250004e-01,\n",
       "         2.33949989e-01,   2.18370005e-01,  -1.71914995e-01,\n",
       "         2.67655015e-01,  -2.49304995e-01,  -1.61386486e-02,\n",
       "        -2.03913495e-01,   3.73250097e-02,  -1.63419992e-01,\n",
       "        -1.18268497e-01,   4.76804972e-02,   3.09480000e-02,\n",
       "        -2.76349992e-01,  -2.88515002e-01,   1.43166497e-01,\n",
       "         3.66054982e-01,  -2.29525000e-01,   1.34764507e-01,\n",
       "         2.46250004e-01,  -8.14449936e-02,  -1.96049996e-02,\n",
       "         5.70187531e-02,   2.39409998e-01,  -3.94944996e-02,\n",
       "         1.65531009e-01,  -7.82316551e-02,   2.02950016e-02,\n",
       "         1.41295001e-01,  -3.54404986e-01,   1.01835996e-01,\n",
       "        -3.80712509e-01,  -3.00175011e-01,  -4.65025008e-01,\n",
       "         1.37149990e-02,   1.50458500e-01,  -1.35411009e-01,\n",
       "        -6.87839985e-02,   3.19985002e-01,   4.61654991e-01,\n",
       "         1.67015001e-01,   1.19174510e-01,  -1.71045009e-02,\n",
       "         4.01125014e-01,  -4.38020043e-02,   1.85970500e-01,\n",
       "         2.01885000e-01,   5.01345038e-01,  -2.43787006e-01,\n",
       "        -1.73835501e-01,   3.58525008e-01,   7.42769986e-02,\n",
       "         3.36642504e-01,  -2.29570001e-01,   6.82509989e-02,\n",
       "         1.77855000e-01,  -5.54875016e-01,   2.73599982e-01,\n",
       "        -4.17670012e-01,   3.46890002e-01,  -2.46870015e-02,\n",
       "        -6.90384954e-02,   1.23234496e-01,  -1.16500258e-03,\n",
       "         4.14599985e-01,   1.48216486e-01,   4.87134978e-02,\n",
       "        -3.25365007e-01,  -4.42525029e-01,  -1.84015006e-01,\n",
       "         2.38340005e-01,  -2.36750003e-02,  -2.00518996e-01,\n",
       "         5.97141832e-02,  -7.15150014e-02,   4.03205007e-01,\n",
       "        -7.86550045e-02,   3.85079980e-01,  -2.77211994e-01,\n",
       "        -1.71714991e-01,  -1.10477000e-01,   2.98285000e-02,\n",
       "        -2.68684983e-01,   3.95555019e-01,   4.88034971e-02,\n",
       "         4.63909984e-01,  -1.83385015e-01,  -1.98542148e-01,\n",
       "         3.35065015e-02,  -2.76300088e-02,   2.18719989e-02,\n",
       "         2.74439991e-01,  -3.23504984e-01,   8.44799951e-02,\n",
       "         1.13342002e-01,   3.82815003e-01,   4.17850167e-03,\n",
       "        -1.89775005e-02,  -1.99984998e-01,   3.52855511e-02,\n",
       "         2.94424504e-01,  -1.25899985e-02,  -1.02600500e-01,\n",
       "        -2.43595004e-01,  -1.70368493e-01,  -1.58047006e-01,\n",
       "        -1.78951509e-02,  -2.18625009e-01,  -2.99114995e-02,\n",
       "         2.74350047e-02,  -4.86935005e-02,  -1.80900002e+00,\n",
       "         4.55314994e-01,  -2.73665011e-01,  -1.53672993e-01,\n",
       "        -6.17277473e-02,  -3.01999986e-01,  -2.31888980e-01,\n",
       "         2.30345011e-01,  -3.85371983e-01,   4.33285013e-02,\n",
       "        -2.35498503e-01,   2.71645010e-01,  -1.04251996e-01,\n",
       "        -9.46944952e-02,   2.41925009e-02,   2.88940012e-01,\n",
       "         2.73860008e-01,  -2.30704993e-01,  -8.66454989e-02,\n",
       "        -2.30461508e-01,   6.17000088e-03,   1.91785008e-01,\n",
       "        -1.68839991e-01,   9.21676010e-02,   2.72835016e-01,\n",
       "        -8.10990036e-02,   3.10360014e-01,  -8.29775035e-02,\n",
       "        -1.36639997e-02,   7.27609992e-02,  -2.03423500e-01,\n",
       "        -3.14954482e-02,   3.49465013e-01,  -2.37664998e-01,\n",
       "         1.14281498e-01,  -2.70500034e-02,  -2.75494993e-01,\n",
       "         4.31750007e-02,  -1.73581496e-01,   3.23064983e-01,\n",
       "         1.17183000e-01,  -1.36559993e-01,   1.86499991e-02,\n",
       "        -6.80000056e-03,   1.04803503e-01,  -2.85203993e-01,\n",
       "        -6.34694993e-02,  -3.67065012e-01,  -9.58805010e-02,\n",
       "         7.03184977e-02,   1.57329999e-02,  -7.34954998e-02,\n",
       "        -5.38574979e-02,  -4.00274992e-01,   2.58289993e-01,\n",
       "         1.56055003e-01,   4.03499976e-02,  -2.87116498e-01,\n",
       "         4.42764997e-01,   3.73409986e-01,  -1.68245003e-01,\n",
       "        -2.57319987e-01,  -1.60522997e-01,  -2.38249987e-01,\n",
       "         2.77972251e-01,   2.02899992e-01,   2.07350001e-01,\n",
       "         1.96815506e-01,   5.09799980e-02,  -1.20310500e-01,\n",
       "         6.17690012e-02,  -1.76698253e-01,  -9.93999839e-03,\n",
       "         1.44566506e-01,   2.64400005e-01,   3.64830017e-01,\n",
       "         1.47236004e-01,  -2.38655001e-01,  -3.42700005e-01,\n",
       "         9.62274969e-02,  -1.78890005e-01,   5.33794984e-02,\n",
       "         1.30082995e-01,   4.24871981e-01,   9.55805033e-02,\n",
       "         1.53400004e-02,  -8.31644982e-02,   6.31450042e-02,\n",
       "        -2.33559996e-01,  -1.14493705e-01,  -1.91000015e-01,\n",
       "        -6.49499968e-02,  -4.49232489e-01,   2.86424994e-01,\n",
       "        -1.35259494e-01,   5.35379983e-02,  -1.45412490e-01,\n",
       "        -1.43405005e-01,  -2.68370986e-01,   1.70831993e-01,\n",
       "         2.42684498e-01,  -4.52990010e-02,   6.28435016e-02,\n",
       "         3.25640030e-02,   2.58610010e-01,  -1.70868501e-01,\n",
       "         2.22089980e-02,  -1.19038500e-01,  -1.57058492e-01,\n",
       "         4.60839987e-01,   2.14447498e-01,  -2.92599946e-02,\n",
       "        -3.65702510e-01,  -5.15855029e-02,  -8.58845562e-02,\n",
       "         2.73434997e-01,   2.47550011e-02,  -1.10394150e-01,\n",
       "        -1.50759995e-01,   2.54620016e-01,  -2.73435041e-02,\n",
       "         2.60975007e-02,  -1.11835003e-01,   6.36949986e-02,\n",
       "        -1.05105005e-01,  -1.47272497e-01,   2.10981995e-01,\n",
       "         7.03094959e-01,   4.08755004e-01,   3.14810008e-01,\n",
       "        -1.22922994e-01,  -1.96770012e-01,  -2.74140000e-01,\n",
       "         7.17660859e-02,  -1.55866995e-01,   1.71278000e-01,\n",
       "         4.38295007e-02,  -1.76790506e-01,   1.43095002e-01,\n",
       "        -1.22693002e-01,  -1.80762842e-01,  -2.58410007e-01,\n",
       "         3.78345028e-02,  -9.46915001e-02,   2.19480008e-01,\n",
       "        -2.83605009e-01,   4.19874996e-01,  -3.23935002e-01,\n",
       "         1.72380000e-01,   1.81012690e-01,  -9.75114033e-02,\n",
       "         2.06735000e-01,  -2.58320004e-01,  -2.89694984e-02,\n",
       "         4.59394991e-01,  -3.28550011e-01,   7.44299963e-02,\n",
       "         3.12099978e-03,  -3.27599943e-02,   2.57470012e-01], dtype=float32)"
      ]
     },
     "execution_count": 12,
     "metadata": {},
     "output_type": "execute_result"
    }
   ],
   "source": [
    "enlp(\"Thank you\").vector"
   ]
  }
 ],
 "metadata": {
  "_draft": {
   "nbviewer_url": "https://gist.github.com/89a454a92600d32466138ccf3ae7fc90"
  },
  "celltoolbar": "Slideshow",
  "gist": {
   "data": {
    "description": "Entities, concepts",
    "public": false
   },
   "id": "89a454a92600d32466138ccf3ae7fc90"
  },
  "kernelspec": {
   "display_name": "Python [default]",
   "language": "python",
   "name": "python3"
  },
  "language_info": {
   "codemirror_mode": {
    "name": "ipython",
    "version": 3
   },
   "file_extension": ".py",
   "mimetype": "text/x-python",
   "name": "python",
   "nbconvert_exporter": "python",
   "pygments_lexer": "ipython3",
   "version": "3.6.1"
  },
  "latex_envs": {
   "LaTeX_envs_menu_present": true,
   "bibliofile": "biblio.bib",
   "cite_by": "apalike",
   "current_citInitial": 1,
   "eqLabelWithNumbers": true,
   "eqNumInitial": 1,
   "hotkeys": {
    "equation": "Ctrl-E",
    "itemize": "Ctrl-I"
   },
   "labels_anchors": false,
   "latex_user_defs": false,
   "report_style_numbering": false,
   "user_envs_cfg": false
  }
 },
 "nbformat": 4,
 "nbformat_minor": 2
}
